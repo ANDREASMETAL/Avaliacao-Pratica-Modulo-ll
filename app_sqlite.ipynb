{
 "cells": [
  {
   "cell_type": "markdown",
   "id": "7cc130ed",
   "metadata": {},
   "source": [
    "# CRIANDO BANCO\n"
   ]
  },
  {
   "cell_type": "code",
   "execution_count": 1,
   "id": "1d75b446",
   "metadata": {},
   "outputs": [],
   "source": [
    "import sqlite3\n",
    "\n",
    "banco = 'escola'"
   ]
  },
  {
   "cell_type": "markdown",
   "id": "38b36f17",
   "metadata": {},
   "source": [
    "# CRIAR TABELA ALUNOS"
   ]
  },
  {
   "cell_type": "code",
   "execution_count": 2,
   "id": "f651fbfc",
   "metadata": {},
   "outputs": [
    {
     "name": "stdout",
     "output_type": "stream",
     "text": [
      "Tabela 'Alunos' Criada com sucesso!\n"
     ]
    }
   ],
   "source": [
    "script_sql = \"\"\"\n",
    "CREATE TABLE IF NOT EXISTS Alunos(\n",
    "    id INTEGER PRIMARY KEY AUTOINCREMENT,\n",
    "    nome TEXT NOT NULL,\n",
    "    idade INTEGER NOT NULL,\n",
    "    email TEXT NOT NULL\n",
    ")\n",
    "\"\"\"\n",
    "\n",
    "try:\n",
    "    with sqlite3.connect(banco) as conn:\n",
    "        cur = conn.cursor()\n",
    "        cur.execute(script_sql)\n",
    "        conn.commit()\n",
    "        print(\"Tabela 'Alunos' Criada com sucesso!\")\n",
    "except  sqlite3.OperationalError as e:\n",
    "    print('Erro:', e)"
   ]
  },
  {
   "cell_type": "markdown",
   "id": "709d46f0",
   "metadata": {},
   "source": [
    "# INSERIR REGISTROS"
   ]
  },
  {
   "cell_type": "code",
   "execution_count": 39,
   "id": "11879efd",
   "metadata": {},
   "outputs": [
    {
     "name": "stdout",
     "output_type": "stream",
     "text": [
      "Registros inseridos com sucesso\n"
     ]
    }
   ],
   "source": [
    "script_sql = \"\"\"\n",
    "INSERT INTO Alunos (nome, idade, email)\n",
    "VALUES (?, ?, ?)\n",
    "\"\"\"\n",
    "\n",
    "try:\n",
    "    with sqlite3.connect(banco) as conn:\n",
    "        cur = conn.cursor()\n",
    "        dados = [\n",
    "            (\"Andreas\", 18, \"Andy_ribfer@gmail.com\"),\n",
    "            (\"Bryan\", 17, \"BcB@gmail.com\"),\n",
    "            (\"Evelyn\", 17, \"Evy@gmail.com\")\n",
    "        ]\n",
    "        cur.executemany(script_sql, dados)\n",
    "        conn.commit()\n",
    "        print(\"Registros inseridos com sucesso\")\n",
    "except  sqlite3.OperationalError as e:\n",
    "    print('Erro:', e)"
   ]
  },
  {
   "cell_type": "markdown",
   "id": "83a120c9",
   "metadata": {},
   "source": [
    "# LISTAR TODOS OS REGISTROS"
   ]
  },
  {
   "cell_type": "code",
   "execution_count": 40,
   "id": "25a27cd3",
   "metadata": {},
   "outputs": [
    {
     "name": "stdout",
     "output_type": "stream",
     "text": [
      "\n",
      " LISTA DE ALUNOS:\n",
      "(10, 'Andreas', 18, 'Andy_ribfer@gmail.com')\n",
      "(11, 'Bryan', 17, 'BcB@gmail.com')\n",
      "(12, 'Evelyn', 17, 'Evy@gmail.com')\n"
     ]
    }
   ],
   "source": [
    "script_sql = \"SELECT * FROM Alunos\"\n",
    "\n",
    "try:\n",
    "    with sqlite3.connect(banco) as conn:\n",
    "        cur = conn.cursor()\n",
    "        cur.execute(script_sql)\n",
    "        res = cur.fetchall()\n",
    "        print(\"\\n LISTA DE ALUNOS:\")\n",
    "        for linha in res:\n",
    "            print(linha)\n",
    "            \n",
    "except  sqlite3.OperationalError as e:\n",
    "    print('Erro:', e)"
   ]
  },
  {
   "cell_type": "markdown",
   "id": "0204e925",
   "metadata": {},
   "source": [
    "# BUSCAR POR ID"
   ]
  },
  {
   "cell_type": "code",
   "execution_count": null,
   "id": "a5221d8c",
   "metadata": {},
   "outputs": [
    {
     "name": "stdout",
     "output_type": "stream",
     "text": [
      "\n",
      " Resultado da busca pelo ID 10:\n",
      "(10, 'Andreas', 18, 'Andy_ribfer@gmail.com')\n"
     ]
    }
   ],
   "source": [
    "id_busca = 10\n",
    "script_sql = \"SELECT * FROM Alunos WHERE id = ?\"\n",
    "\n",
    "try:\n",
    "    with sqlite3.connect(banco) as conn:\n",
    "        cur = conn.cursor()\n",
    "        cur.execute(script_sql,(id_busca,))\n",
    "        res = cur.fetchone()\n",
    "        print(f\"\\n Resultado da busca pelo ID {id_busca}:\")\n",
    "        print(res)\n",
    "\n",
    "except  sqlite3.OperationalError as e:\n",
    "    print('Erro:', e)       "
   ]
  },
  {
   "cell_type": "markdown",
   "id": "442f8976",
   "metadata": {},
   "source": [
    "# ATUALIZAR REGISTROS"
   ]
  },
  {
   "cell_type": "code",
   "execution_count": 13,
   "id": "44eefc04",
   "metadata": {},
   "outputs": [
    {
     "name": "stdout",
     "output_type": "stream",
     "text": [
      "\n",
      " Registros atualizados com sucesso!\n",
      "Registro atualizado: (2, 'Andreas Ribeiro', 18, 'Andy_ribfer@gmail.com')\n"
     ]
    }
   ],
   "source": [
    "script_sql = \"\"\"\n",
    "UPDATE Alunos\n",
    "SET nome = ?, idade = ?, email = ? WHERE id = ?\n",
    "\n",
    "\"\"\"\n",
    "try:\n",
    "    with sqlite3.connect(banco) as conn:\n",
    "        cur = conn.cursor()\n",
    "        cur.execute(script_sql, (\"Andreas Ribeiro\", 18, \"Andy_ribfer@gmail.com\", 2))\n",
    "        conn.commit()\n",
    "        print(\"\\n Registros atualizados com sucesso!\")\n",
    "\n",
    "        cur.execute(\"SELECT * FROM Alunos WHERE id = 2\")\n",
    "        print(\"Registro atualizado:\", cur.fetchone())\n",
    "\n",
    "except  sqlite3.OperationalError as e:\n",
    "    print('Erro:', e)    "
   ]
  },
  {
   "cell_type": "markdown",
   "id": "7a27111d",
   "metadata": {},
   "source": [
    "# DELETAR REGISTROS"
   ]
  },
  {
   "cell_type": "code",
   "execution_count": 37,
   "id": "74022de8",
   "metadata": {},
   "outputs": [
    {
     "name": "stdout",
     "output_type": "stream",
     "text": [
      "\n",
      " Registros deletados com sucesso!\n"
     ]
    }
   ],
   "source": [
    "script_sql = \"\"\"DELETE FROM Alunos WHERE id = ?\"\"\"\n",
    "\n",
    "try:\n",
    "    with sqlite3.connect(banco) as conn:\n",
    "        cur = conn.cursor()\n",
    "        cur.execute(script_sql, (9,))\n",
    "        conn.commit\n",
    "        print(\"\\n Registros deletados com sucesso!\")\n",
    "\n",
    "except  sqlite3.OperationalError as e:\n",
    "    print('Erro:', e)  "
   ]
  }
 ],
 "metadata": {
  "kernelspec": {
   "display_name": "Python 3",
   "language": "python",
   "name": "python3"
  },
  "language_info": {
   "codemirror_mode": {
    "name": "ipython",
    "version": 3
   },
   "file_extension": ".py",
   "mimetype": "text/x-python",
   "name": "python",
   "nbconvert_exporter": "python",
   "pygments_lexer": "ipython3",
   "version": "3.13.2"
  }
 },
 "nbformat": 4,
 "nbformat_minor": 5
}
